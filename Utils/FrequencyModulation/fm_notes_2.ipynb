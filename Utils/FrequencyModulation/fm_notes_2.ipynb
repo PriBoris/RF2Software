{
 "cells": [
  {
   "cell_type": "code",
   "execution_count": null,
   "metadata": {
    "collapsed": false
   },
   "outputs": [],
   "source": [
    "# import scipy as sp\n",
    "import numpy as np\n",
    "import matplotlib.pyplot as plt"
   ]
  },
  {
   "cell_type": "code",
   "execution_count": null,
   "metadata": {
    "collapsed": false
   },
   "outputs": [],
   "source": [
    "startPos = 9000\n",
    "endPos = 22000\n",
    "pos = np.arange(7000, 24000, 100)\n",
    "x = (pos - startPos) / (endPos - startPos)\n",
    "x = np.clip(x, 0.0, 1.0)\n",
    "\n",
    "aLaw = 3\n",
    "dLaw = 1"
   ]
  },
  {
   "cell_type": "code",
   "execution_count": null,
   "metadata": {
    "collapsed": false
   },
   "outputs": [],
   "source": [
    "x1 = np.zeros(x.size)\n",
    "law = np.zeros(x.size)\n",
    "for i in range(x.size):\n",
    "    if x[i] < 0.5:\n",
    "        x1[i] = 1 - 2*x[i]       \n",
    "        law[i] = aLaw\n",
    "    else:\n",
    "        x1[i] = -1 + 2*x[i]\n",
    "        law[i] = dLaw\n",
    "        "
   ]
  },
  {
   "cell_type": "code",
   "execution_count": null,
   "metadata": {
    "collapsed": false
   },
   "outputs": [],
   "source": [
    "plt.plot(x, x1)\n",
    "plt.grid(True)\n",
    "plt.show()"
   ]
  },
  {
   "cell_type": "code",
   "execution_count": null,
   "metadata": {
    "collapsed": false
   },
   "outputs": [],
   "source": [
    "y = 1-x1**law\n",
    "\n",
    "plt.plot(x, y)\n",
    "plt.grid(True)\n",
    "plt.show()\n"
   ]
  }
 ],
 "metadata": {
  "kernelspec": {
   "display_name": "Python 3",
   "language": "python",
   "name": "python3"
  },
  "language_info": {
   "codemirror_mode": {
    "name": "ipython",
    "version": 3
   },
   "file_extension": ".py",
   "mimetype": "text/x-python",
   "name": "python",
   "nbconvert_exporter": "python",
   "pygments_lexer": "ipython3",
   "version": "3.5.2"
  }
 },
 "nbformat": 4,
 "nbformat_minor": 2
}
