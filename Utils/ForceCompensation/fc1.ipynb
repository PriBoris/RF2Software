{
 "cells": [
  {
   "cell_type": "code",
   "execution_count": null,
   "metadata": {
    "collapsed": false
   },
   "outputs": [],
   "source": [
    "import scipy as sp\n",
    "import numpy as np\n",
    "import matplotlib.pyplot as plt"
   ]
  },
  {
   "cell_type": "code",
   "execution_count": null,
   "metadata": {
    "collapsed": false
   },
   "outputs": [],
   "source": []
  },
  {
   "cell_type": "code",
   "execution_count": null,
   "metadata": {
    "collapsed": false
   },
   "outputs": [],
   "source": [
    "# positions\n",
    "p = (22987,21489,20052,18598,17147,15694,14237,12786,11336,9884,8438)\n",
    "# weights without compensation\n",
    "w = (-6100,-5877,-5000,-4770,-4410,-3800,-3520,-2975,-2370,-1670,-660)\n",
    "x = np.arange(8000, 23500, 10)       \n",
    "\n",
    "print(\"linear compensation\")\n",
    "b1 = 0\n",
    "c1 = (w0-w1)/(p1-p0)\n",
    "d1 = - w0 - c1*p0\n",
    "y1 = -b1*x**2-x*c1-d1\n",
    "\n",
    "print(\"quadratic compensation\")\n",
    "p0 = p[0]\n",
    "p1 = p[5]\n",
    "p2 = p[10]\n",
    "w0 = w[0]\n",
    "w1 = w[5]\n",
    "w2 = w[10]\n",
    "A = np.matrix([[p0**2,p0,1],[p1**2,p1,1],[p2**2,p2,1]])\n",
    "W = np.matrix([[-w0],[-w1],[-w2]])\n",
    "X = np.linalg.matrix_power(A,-1)*W       \n",
    "b2=X.item(0)\n",
    "c2=X.item(1)\n",
    "d2=X.item(2)\n",
    "y2 = -b2*x**2-x*c2-d2   \n",
    "    \n",
    "plt.plot(p,w,\"k*\",x,y1,\"r\",x,y2,\"b\")\n",
    "plt.grid(True)\n",
    "#plt.axis([p[10], p[0], w[0], w[10]])\n",
    "plt.show()\n"
   ]
  },
  {
   "cell_type": "code",
   "execution_count": null,
   "metadata": {
    "collapsed": false
   },
   "outputs": [],
   "source": [
    "print((b1,c1,d1,b2,c2,d2))"
   ]
  }
 ],
 "metadata": {
  "kernelspec": {
   "display_name": "Python 3",
   "language": "python",
   "name": "python3"
  },
  "language_info": {
   "codemirror_mode": {
    "name": "ipython",
    "version": 3
   },
   "file_extension": ".py",
   "mimetype": "text/x-python",
   "name": "python",
   "nbconvert_exporter": "python",
   "pygments_lexer": "ipython3",
   "version": "3.5.2"
  }
 },
 "nbformat": 4,
 "nbformat_minor": 2
}
